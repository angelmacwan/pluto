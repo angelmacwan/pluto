{
 "cells": [
  {
   "cell_type": "code",
   "execution_count": 2,
   "metadata": {},
   "outputs": [
    {
     "name": "stderr",
     "output_type": "stream",
     "text": [
      "/home/max/.local/lib/python3.10/site-packages/tqdm/auto.py:21: TqdmWarning: IProgress not found. Please update jupyter and ipywidgets. See https://ipywidgets.readthedocs.io/en/stable/user_install.html\n",
      "  from .autonotebook import tqdm as notebook_tqdm\n"
     ]
    }
   ],
   "source": [
    "import optuna\n",
    "from sklearn.datasets import load_iris\n",
    "from sklearn.model_selection import train_test_split\n",
    "from sklearn.ensemble import RandomForestClassifier\n",
    "from sklearn.metrics import accuracy_score"
   ]
  },
  {
   "cell_type": "code",
   "execution_count": 3,
   "metadata": {},
   "outputs": [],
   "source": [
    "data = load_iris()\n",
    "X, y = data.data, data.target\n",
    "X_train, X_test, y_train, y_test = train_test_split(X, y, test_size=0.2, random_state=42)"
   ]
  },
  {
   "cell_type": "code",
   "execution_count": null,
   "metadata": {},
   "outputs": [
    {
     "name": "stderr",
     "output_type": "stream",
     "text": [
      "[I 2024-11-30 17:33:33,672] A new study created in memory with name: no-name-bc41d479-ab73-49c5-8e6d-655a0b3f73d6\n",
      "[I 2024-11-30 17:33:33,815] Trial 0 finished with value: 1.0 and parameters: {'n_estimators': 135, 'max_depth': 5, 'min_samples_split': 14, 'min_samples_leaf': 9}. Best is trial 0 with value: 1.0.\n",
      "[I 2024-11-30 17:33:33,861] Trial 1 finished with value: 1.0 and parameters: {'n_estimators': 42, 'max_depth': 2, 'min_samples_split': 13, 'min_samples_leaf': 9}. Best is trial 0 with value: 1.0.\n",
      "[I 2024-11-30 17:33:33,969] Trial 2 finished with value: 1.0 and parameters: {'n_estimators': 110, 'max_depth': 14, 'min_samples_split': 19, 'min_samples_leaf': 13}. Best is trial 0 with value: 1.0.\n",
      "[I 2024-11-30 17:33:34,024] Trial 3 finished with value: 1.0 and parameters: {'n_estimators': 56, 'max_depth': 2, 'min_samples_split': 8, 'min_samples_leaf': 18}. Best is trial 0 with value: 1.0.\n",
      "[I 2024-11-30 17:33:34,121] Trial 4 finished with value: 1.0 and parameters: {'n_estimators': 89, 'max_depth': 2, 'min_samples_split': 2, 'min_samples_leaf': 4}. Best is trial 0 with value: 1.0.\n",
      "[I 2024-11-30 17:33:34,140] Trial 5 finished with value: 1.0 and parameters: {'n_estimators': 17, 'max_depth': 6, 'min_samples_split': 9, 'min_samples_leaf': 17}. Best is trial 0 with value: 1.0.\n",
      "[I 2024-11-30 17:33:34,254] Trial 6 finished with value: 1.0 and parameters: {'n_estimators': 117, 'max_depth': 2, 'min_samples_split': 4, 'min_samples_leaf': 1}. Best is trial 0 with value: 1.0.\n",
      "[I 2024-11-30 17:33:34,305] Trial 7 finished with value: 1.0 and parameters: {'n_estimators': 45, 'max_depth': 14, 'min_samples_split': 17, 'min_samples_leaf': 17}. Best is trial 0 with value: 1.0.\n",
      "[I 2024-11-30 17:33:34,467] Trial 8 finished with value: 1.0 and parameters: {'n_estimators': 165, 'max_depth': 22, 'min_samples_split': 3, 'min_samples_leaf': 9}. Best is trial 0 with value: 1.0.\n",
      "[I 2024-11-30 17:33:34,610] Trial 9 finished with value: 1.0 and parameters: {'n_estimators': 140, 'max_depth': 14, 'min_samples_split': 5, 'min_samples_leaf': 14}. Best is trial 0 with value: 1.0.\n"
     ]
    }
   ],
   "source": [
    "def funetune_using_optuna(model):\n",
    "    model_type = model.__class__\n",
    "    \n",
    "    \n",
    "\n",
    "    def objective(trial):\n",
    "        # Suggest hyperparameters\n",
    "        n_estimators = trial.suggest_int(\"n_estimators\", 10, 200)\n",
    "        max_depth = trial.suggest_int(\"max_depth\", 2, 32, log=True)\n",
    "        min_samples_split = trial.suggest_int(\"min_samples_split\", 2, 20)\n",
    "        min_samples_leaf = trial.suggest_int(\"min_samples_leaf\", 1, 20)\n",
    "\n",
    "        # Create the model with suggested hyperparameters\n",
    "        model = RandomForestClassifier(\n",
    "            n_estimators=n_estimators,\n",
    "            max_depth=max_depth,\n",
    "            min_samples_split=min_samples_split,\n",
    "            min_samples_leaf=min_samples_leaf,\n",
    "            random_state=42,\n",
    "        )\n",
    "        model.fit(X_train, y_train)\n",
    "        preds = model.predict(X_test)\n",
    "        accuracy = accuracy_score(y_test, preds)\n",
    "\n",
    "        return accuracy  # Optuna will maximize this score\n",
    "\n",
    "    # Create the study and optimize\n",
    "    study = optuna.create_study(direction=\"maximize\")\n",
    "    study.optimize(objective, n_trials=10)\n",
    "\n",
    "    print(f\"Best Score  : {study.best_value}\")\n",
    "    print(f\"Best Params : {study.best_params}\")\n",
    "    \n",
    "    return study.best_params"
   ]
  },
  {
   "cell_type": "code",
   "execution_count": null,
   "metadata": {},
   "outputs": [
    {
     "name": "stdout",
     "output_type": "stream",
     "text": [
      "Best parameters: {'n_estimators': 135, 'max_depth': 5, 'min_samples_split': 14, 'min_samples_leaf': 9}\n",
      "Best accuracy: 1.0\n"
     ]
    }
   ],
   "source": []
  },
  {
   "cell_type": "code",
   "execution_count": 18,
   "metadata": {},
   "outputs": [],
   "source": [
    "model = RandomForestClassifier()"
   ]
  },
  {
   "cell_type": "code",
   "execution_count": 20,
   "metadata": {},
   "outputs": [
    {
     "data": {
      "text/plain": [
       "sklearn.ensemble._forest.RandomForestClassifier"
      ]
     },
     "execution_count": 20,
     "metadata": {},
     "output_type": "execute_result"
    }
   ],
   "source": [
    "# dir(model)\n",
    "model.__class__"
   ]
  },
  {
   "cell_type": "code",
   "execution_count": null,
   "metadata": {},
   "outputs": [],
   "source": [
    "def perform_kfold_cv(k=5, model, X, y):\n",
    "    pass"
   ]
  }
 ],
 "metadata": {
  "kernelspec": {
   "display_name": "Python 3",
   "language": "python",
   "name": "python3"
  },
  "language_info": {
   "codemirror_mode": {
    "name": "ipython",
    "version": 3
   },
   "file_extension": ".py",
   "mimetype": "text/x-python",
   "name": "python",
   "nbconvert_exporter": "python",
   "pygments_lexer": "ipython3",
   "version": "3.10.12"
  }
 },
 "nbformat": 4,
 "nbformat_minor": 2
}
